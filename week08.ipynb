{
 "cells": [
  {
   "cell_type": "markdown",
   "metadata": {},
   "source": [
    "# Week 8 - Complex numbers in Numpy - Root finding methods\n",
    "\n",
    "This week, we start with a short section on how Python handles **complex numbers**. Then, we introduce our first root finding algorithms as ways to solve nonlinear equations: the **bisection method** and **fixed-point iteration**.\n",
    "\n",
    "The best way to learn programming is to write code. Don't hesitate to edit the code in the example cells, or add your own code, to test your understanding. You will find practice exercises throughout the notebook, denoted by 🚩 ***Exercise $x$:***.\n",
    "\n",
    "#### Displaying solutions\n",
    "\n",
    "Solutions will be released one week after the worksheets are released, as a new `.txt` file in the same GitHub repository. After pulling the file to your workspace (either your computer or your Noteable server), run the following cell to create clickable buttons under each exercise, which will allow you to reveal the solutions."
   ]
  },
  {
   "cell_type": "code",
   "execution_count": null,
   "metadata": {},
   "outputs": [],
   "source": [
    "%run scripts/create_widgets.py week08"
   ]
  },
  {
   "cell_type": "markdown",
   "metadata": {},
   "source": [
    "---\n",
    "### 📚 Book sections\n",
    "\n",
    "- **ASC**: sections 5.1, **5.2**\n",
    "- **PCP**: sections 7.1.3, 7.4\n",
    "\n",
    "---\n",
    "\n",
    "## 1. Complex numbers\n",
    "\n",
    "Python natively supports complex numbers via the `complex` object. To create a complex number, we can type it directly in **cartesian** form, using the letter **`j`** for the imaginary unit $i$ such that $i^2 = -1$. Its real and imaginary parts can then be retrieved using the `.real` and `.imag` attributes."
   ]
  },
  {
   "cell_type": "code",
   "execution_count": null,
   "metadata": {},
   "outputs": [],
   "source": [
    "# Create a complex number\n",
    "z = 3.1 - 4j\n",
    "print(z)\n",
    "print(type(z))\n",
    "\n",
    "# Print its real and imaginary parts (both floats)\n",
    "print(z.real)\n",
    "print(z.imag)\n",
    "\n",
    "print(type(z.real))"
   ]
  },
  {
   "cell_type": "markdown",
   "metadata": {},
   "source": [
    "Note that when the imaginary part is $\\pm 1$, you should type `1j` instead of just `j` -- otherwise Python looks for a variable named `j`:"
   ]
  },
  {
   "cell_type": "code",
   "execution_count": null,
   "metadata": {},
   "outputs": [],
   "source": [
    "print(1j)\n",
    "print(j)"
   ]
  },
  {
   "cell_type": "markdown",
   "metadata": {},
   "source": [
    "Another way to build complex number objects is to use the `complex()` function:"
   ]
  },
  {
   "cell_type": "code",
   "execution_count": null,
   "metadata": {},
   "outputs": [],
   "source": [
    "# Create the same complex number as before\n",
    "w = complex(3.1, -4)\n",
    "print(w)\n",
    "print(w == z)"
   ]
  },
  {
   "cell_type": "markdown",
   "metadata": {},
   "source": [
    "Python's [`cmath` module](https://docs.python.org/3.8/library/cmath.html) offers functions to handle complex numbers. Note that Numpy also supports `complex` types, and most Numpy functions work as expected on complex numbers."
   ]
  },
  {
   "cell_type": "code",
   "execution_count": null,
   "metadata": {},
   "outputs": [],
   "source": [
    "import cmath\n",
    "import numpy as np\n",
    "\n",
    "# Switch between cartesian and polar coordinates\n",
    "z_cart = 0.0 + 3.0j\n",
    "r, phi = cmath.polar(z_cart)\n",
    "\n",
    "print(f'Cartesian: x = {z_cart.real}, y = {z_cart.imag}')\n",
    "print(f'Polar: r = {r}, phi = {phi}')\n",
    "\n",
    "print(z_cart)\n",
    "print(r * cmath.exp(1j * phi))\n",
    "print(r * np.exp(1j * phi))"
   ]
  },
  {
   "cell_type": "code",
   "execution_count": null,
   "metadata": {},
   "outputs": [],
   "source": [
    "# Numpy arrays of complex numbers\n",
    "Z1 = np.random.random(5) + 1j * np.random.random(5)\n",
    "print(Z1)\n",
    "\n",
    "Z2 = np.array([1, 2j, -3+1j])\n",
    "print(Z2)\n",
    "print(type(Z2))\n",
    "print(type(Z2[0]))\n",
    "\n",
    "Z3 = np.array([1, 2, 3, 4], dtype=complex)\n",
    "print(Z3)"
   ]
  },
  {
   "cell_type": "code",
   "execution_count": null,
   "metadata": {},
   "outputs": [],
   "source": [
    "# Numpy math functions\n",
    "z = 5.2 - 4.8j\n",
    "\n",
    "print(np.cos(z))\n",
    "print(np.abs(z))    # complex magnitude\n",
    "print(np.round(z))\n",
    "print(z**2)\n",
    "\n",
    "w = 10j\n",
    "print(np.cos(w) == np.cosh(w.imag))\n",
    "print(z * w)"
   ]
  },
  {
   "cell_type": "code",
   "execution_count": null,
   "metadata": {},
   "outputs": [],
   "source": [
    "# Behaviour of np.sqrt()\n",
    "a = -4.\n",
    "b = -4. + 0j\n",
    "\n",
    "print(f'The type of {a} is {type(a)}, the type of {b} is {type(b)}.')\n",
    "\n",
    "print(np.sqrt(a))    # returns np.nan with a warning\n",
    "print(np.sqrt(b))    # works fine!"
   ]
  },
  {
   "cell_type": "markdown",
   "metadata": {},
   "source": [
    "---\n",
    "**📚 Learn more:**\n",
    "\n",
    "- [Python's `complex` number type](https://docs.python.org/3.8/library/stdtypes.html#typesnumeric) - Python documentation\n",
    "- [`cmath` - Mathematical functions for complex numbers](https://docs.python.org/3.8/library/cmath.html) - Python documentation\n",
    "- [`np.real()`](https://numpy.org/doc/stable/reference/generated/numpy.real.html#numpy.real), [`np.imag()`](https://numpy.org/doc/stable/reference/generated/numpy.imag.html#numpy.imag), [`np.angle()`](https://numpy.org/doc/stable/reference/generated/numpy.angle.html#numpy.angle) - Numpy documentation\n",
    "\n",
    "---\n",
    "\n",
    "🚩 ***Exercise 1***: Write a function `quad_roots()` which takes 3 arguments `a`, `b`, `c`, all floating point numbers (with $a \\neq 0$), and returns the two roots `x1`, `x2` of the polynomial $p(x) = ax^2 + bx + c$, as floating point numbers if the roots are real, or as Python complex numbers if the roots are complex."
   ]
  },
  {
   "cell_type": "code",
   "execution_count": null,
   "metadata": {},
   "outputs": [],
   "source": [
    "import numpy as np\n",
    "\n",
    "\n",
    "\n",
    "\n",
    "\n",
    "# Some quick testing...\n",
    "print(quad_roots(1, 0, 1))     # roots of x^2 + 1 are -i, i\n",
    "print(quad_roots(1, 0, -1))    # roots of x^2 - 1 are -1, 1\n",
    "print(quad_roots(1, -2, 1))    # roots of x^2 - 2x + 1 are 1, 1\n",
    "print(quad_roots(1, -2, 2))    # roots of x^2 - 2x + 2 are (1-i), (1+i)"
   ]
  },
  {
   "cell_type": "code",
   "execution_count": null,
   "metadata": {
    "tags": [
     "solution_cell"
    ]
   },
   "outputs": [],
   "source": [
    "%run scripts/show_solutions.py week08_ex1"
   ]
  },
  {
   "cell_type": "markdown",
   "metadata": {},
   "source": [
    "---\n",
    "## 2. Solving nonlinear equations with root-finding algorithms\n",
    "\n",
    "In this section, we consider equations of the form\n",
    "\n",
    "$$\n",
    "F(x) = 0,\n",
    "$$\n",
    "\n",
    "where $F(x)$ is a **nonlinear** function of $x$. Solving this equation is equivalent to finding the *root(s)* $x_\\ast$ of the function $F$.\n",
    "\n",
    "There are direct methods we can use to solve *linear* equations, even linear systems of equations as we saw in Week 4; however, a nonlinear equation of the form given above doesn't always have a solution which can be found analytically.\n",
    "\n",
    "The methods we will discuss to solve nonlinear equations are all **iterative**:\n",
    "1. we start with a guess for where the root may be;\n",
    "2. if we are close enough to the solution, for instance if the function is sufficiently close to zero for the current guess, we stop;\n",
    "3. if not, we refine our guess using information we have about the function;\n",
    "4. we go back to step 1 with our new guess.\n",
    "\n",
    "Step 3 is what differentiates the methods we will use, as they each use a different process to refine the current best guess. For all these methods, the key idea is to reduce the nonlinear problem to smaller, simpler problems, which we solve repeatedly (iteratively).\n",
    "\n",
    "---\n",
    "### 2.1. The bisection method\n",
    "\n",
    "Given a continuous function $F \\left( x \\right)$, if $F \\left( a \\right) \\le 0$ and $F \\left( b \\right) \\ge 0$, the Intermediate Value Theorem tells us that there must be a root in the closed interval $\\left[ a, b \\right].$ The bisection method proceeds by testing the **sign** of $F \\left( c \\right)$ where $c$ is the **mid-point** of the interval $\\left[ a, b \\right]$, and uses this to halve the size of the interval in which a root is sought. The process is repeated with the new half-interval, until the interval is small enough to approximate the root with a given tolerance.\n",
    "\n",
    "The next few exercises will guide you through implementing the bisection method yourself.\n",
    "\n",
    "---\n",
    "**📚 Learn more:**\n",
    "- **ASC**: section 5.2\n",
    "- **PCP**: section 7.4\n",
    "\n",
    "---\n",
    "🚩 ***Exercise 2:***\n",
    "Consider the function\n",
    "\n",
    "\\begin{equation}\\label{eqn:F}\n",
    "  F \\left( x \\right) = \\sin \\left( 2 \\pi x \\right) e^{4 x} + x.\n",
    "\\end{equation}\n",
    "\n",
    "Plot this function in the interval $x \\in \\left[ 0, 1 \\right]$ and identify the three roots in this interval. Check that $F \\left( 0.2 \\right)$ and $F \\left( 0.6 \\right)$ have opposite signs.\n",
    "\n",
    "You may find it convenient to create a function `F`."
   ]
  },
  {
   "cell_type": "code",
   "execution_count": null,
   "metadata": {},
   "outputs": [],
   "source": []
  },
  {
   "cell_type": "code",
   "execution_count": null,
   "metadata": {
    "tags": [
     "solution_cell"
    ]
   },
   "outputs": [],
   "source": [
    "%run scripts/show_solutions.py week08_ex2"
   ]
  },
  {
   "cell_type": "markdown",
   "metadata": {},
   "source": [
    "---\n",
    "🚩 ***Exercise 3:*** Define variables corresponding to $a = 0.2$ and $b = 0.6$. Define $c$ to be the midpoint $c = (a + b) / 2$.\n",
    "\n",
    "Then, start a loop, which should iterate until the root is found. At each iteration:\n",
    "- Depending on the sign of $F \\left( a \\right) F \\left( c \\right)$, decide whether to set $a$ or $b$ to be equal to $c$, so that there is a root of $F \\left( x \\right)$ in the *new* interval $\\left[ a, b \\right]$ (with half the width of the previous interval).\n",
    "- Define $c$ to be the new midpoint $c = (a + b) / 2$.\n",
    "- The loop should stop when you have found the root $x_\\ast$ within an error of $10^{-10}$.\n",
    "\n",
    "A possible convergence criterion is $|F(c)| < \\varepsilon$, where $\\varepsilon$ is the tolerance -- here, $10^{-10}$.\n",
    "\n",
    "How many iterations are needed to find the root to within this error?"
   ]
  },
  {
   "cell_type": "code",
   "execution_count": null,
   "metadata": {},
   "outputs": [],
   "source": []
  },
  {
   "cell_type": "code",
   "execution_count": null,
   "metadata": {
    "tags": [
     "solution_cell"
    ]
   },
   "outputs": [],
   "source": [
    "%run scripts/show_solutions.py week08_ex3"
   ]
  },
  {
   "cell_type": "markdown",
   "metadata": {},
   "source": [
    "---\n",
    "🚩 ***Exercise 4:*** Choose different $a$ and $b$ values in order to find the root near $x = 1$, to within an error of $10^{-10}$.\n",
    "\n",
    "You may wish to write your code from Exercise 3 into a function `bisection(F, a, b, tol)`, which finds the root of a function `F` in the interval `[a, b]` to within an error of `tol`, and returns the value of the roots and the number of iterations."
   ]
  },
  {
   "cell_type": "code",
   "execution_count": null,
   "metadata": {},
   "outputs": [],
   "source": []
  },
  {
   "cell_type": "code",
   "execution_count": null,
   "metadata": {
    "tags": [
     "solution_cell"
    ]
   },
   "outputs": [],
   "source": [
    "%run scripts/show_solutions.py week08_ex4"
   ]
  },
  {
   "cell_type": "markdown",
   "metadata": {},
   "source": [
    "---\n",
    "### 2.2. Regula falsi\n",
    "\n",
    "The \"regula falsi\" method is similar to the bisection method, with an important difference: instead of selecting the midpoint of the interval $[a, b]$ at each iteration, we trace a straight line between the points $(a, F(a))$ and $(b, F(b))$, and select the point $c$ where this line intersects the x-axis. In other words, we interpolate $F$ linearly between $a$ and $b$, and we find the root of this interpolating polynomial (of degree 1) at each iteration.\n",
    "\n",
    "---\n",
    "🚩 ***Exercise 5:*** Show that $c$ is given by\n",
    "\n",
    "$$\n",
    "c = \\frac{a F(b) - b F(a)}{F(b) - F(a)}.\n",
    "$$\n",
    "\n",
    "*Hint: a line with slope $\\alpha$ which passes through the point $(x_0, y_0)$ has equation*\n",
    "\n",
    "$$\n",
    "y - y_0 = \\alpha (x - x_0).\n",
    "$$"
   ]
  },
  {
   "cell_type": "code",
   "execution_count": null,
   "metadata": {
    "tags": [
     "solution_cell"
    ]
   },
   "outputs": [],
   "source": [
    "%run scripts/show_solutions.py week08_ex5"
   ]
  },
  {
   "cell_type": "markdown",
   "metadata": {},
   "source": [
    "---\n",
    "🚩 ***Exercise 6:*** Consider the same function $F$ as in section 2.1.\n",
    "\n",
    "Define variables corresponding to $a = 0.2$ and $b = 0.6$.\n",
    "\n",
    "Then, proceed as you did for the bisection method, but instead of defining $c$ to be the midpoint of $[a, b]$, define $c$ as above.\n",
    "\n",
    "How many iterations are needed to find the root to within a tolerance of $10^{-10}$?\n",
    "\n",
    "You may wish to define a function `regula_falsi(F, a, b, tol)` to find a root of a function `F` within an interval `[a, b]` to within an error `tol`, which returns the computed root and the number of iterations."
   ]
  },
  {
   "cell_type": "code",
   "execution_count": null,
   "metadata": {},
   "outputs": [],
   "source": []
  },
  {
   "cell_type": "code",
   "execution_count": null,
   "metadata": {
    "tags": [
     "solution_cell"
    ]
   },
   "outputs": [],
   "source": [
    "%run scripts/show_solutions.py week08_ex6"
   ]
  },
  {
   "cell_type": "markdown",
   "metadata": {},
   "source": [
    "---\n",
    "## 3. Convergence of root-finding methods\n",
    "\n",
    "The bisection and regula falsi methods are guaranteed to converge to a root, provided $F$ is sufficiently smooth and the starting interval $[a, b]$ is chosen appropriately.\n",
    "\n",
    "But different methods may converge to a root at different *speeds*. The **order of convergence** for root-finding algorithms is defined in terms of successive values of the error $e_k := x_k - x_\\ast$ between the true solution $x_\\ast$ and the guess $x_k$ obtained at the $k$th iteration.\n",
    "\n",
    "---\n",
    "#### 🚩 Definition: Order of convergence of root-finding methods\n",
    "\n",
    "A convergent root-finding algorithm converges **at $p$th order** if\n",
    "\n",
    "$$\n",
    "\\lim_{k \\to \\infty} \\frac{|e_{k+1}|}{|e_k|^p} = \\alpha,\n",
    "$$\n",
    "\n",
    "where $\\alpha \\in \\mathbb{R}$ is a constant.\n",
    "\n",
    "---\n",
    "\n",
    "For a $p$th order convergent method, we expect the error at the $k+1$th iteration to be roughly proportional to the $p$th power of the error at the $k$th iteration, for sufficiently large $k$ -- that is, when we are in a close enough neighbourhood of $x_\\ast$.\n",
    "\n",
    "Note that $p$ is not always an integer.\n",
    "\n",
    "---\n",
    "🚩 ***Exercise 7:*** Modify your code from Exercise 6 so that all the successive guesses $x_k$ are stored in a Numpy array. Perform the task from Exercise 6 again -- use the regula falsi method to find the same root of `F`, using the same starting interval and tolerance. You should obtain the same result, but now you should also have a vector `x` with length $k_\\max + 1$ containing all the guesses.\n",
    "\n",
    "Consider $x_{k_\\max}$, the last guess obtained by the method, to be the \"true solution\". Compute the magnitude of the error $e_k$ between each of the previous guesses $x_k$ and the true solution.\n",
    "\n",
    "For $p=1, 1.5, 2, 2.5$, compute the ratio $\\frac{|e_{k+1}|}{|e_k|^p}$ for $k=0, 1, \\dots, k_\\max - 1$, and plot it against $k$. Set your y-axis limits to $[0, 1000]$ to start with, and reduce the range as necessary.\n",
    "\n",
    "Given the definition above, what do you expect is the order of convergence of regula falsi? How do you explain the appearance of the graph?"
   ]
  },
  {
   "cell_type": "code",
   "execution_count": null,
   "metadata": {},
   "outputs": [],
   "source": []
  },
  {
   "cell_type": "code",
   "execution_count": null,
   "metadata": {
    "tags": [
     "solution_cell"
    ]
   },
   "outputs": [],
   "source": [
    "%run scripts/show_solutions.py week08_ex7"
   ]
  }
 ],
 "metadata": {
  "celltoolbar": "Tags",
  "kernelspec": {
   "display_name": "Python 3",
   "language": "python",
   "name": "python3"
  },
  "language_info": {
   "codemirror_mode": {
    "name": "ipython",
    "version": 3
   },
   "file_extension": ".py",
   "mimetype": "text/x-python",
   "name": "python",
   "nbconvert_exporter": "python",
   "pygments_lexer": "ipython3",
   "version": "3.7.6"
  }
 },
 "nbformat": 4,
 "nbformat_minor": 4
}
